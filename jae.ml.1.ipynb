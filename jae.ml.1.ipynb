{
 "cells": [
  {
   "cell_type": "markdown",
   "metadata": {},
   "source": [
    "# Machine Learning Practice\n",
    "\n",
    "We will start by predicting whether a bank note is authentic or fraudulent based on measurements of four attributes: the variance of the image wavelet transformed image, skewness, entropy, and curtosis of the image.  We will start by implementing a random forest classifier, then implement other models.  \n",
    "\n",
    "We will by importing usual libraries:"
   ]
  },
  {
   "cell_type": "code",
   "execution_count": 1,
   "metadata": {},
   "outputs": [],
   "source": [
    "import numpy as np\n",
    "import pandas as pd"
   ]
  },
  {
   "cell_type": "markdown",
   "metadata": {},
   "source": [
    "The measurements for the four attributes and target values are located in `bill_authentication.csv`.  We can read it in using `pandas`:"
   ]
  },
  {
   "cell_type": "code",
   "execution_count": 2,
   "metadata": {},
   "outputs": [
    {
     "data": {
      "text/html": [
       "<div>\n",
       "<style scoped>\n",
       "    .dataframe tbody tr th:only-of-type {\n",
       "        vertical-align: middle;\n",
       "    }\n",
       "\n",
       "    .dataframe tbody tr th {\n",
       "        vertical-align: top;\n",
       "    }\n",
       "\n",
       "    .dataframe thead th {\n",
       "        text-align: right;\n",
       "    }\n",
       "</style>\n",
       "<table border=\"1\" class=\"dataframe\">\n",
       "  <thead>\n",
       "    <tr style=\"text-align: right;\">\n",
       "      <th></th>\n",
       "      <th>Variance</th>\n",
       "      <th>Skewness</th>\n",
       "      <th>Curtosis</th>\n",
       "      <th>Entropy</th>\n",
       "      <th>Class</th>\n",
       "    </tr>\n",
       "  </thead>\n",
       "  <tbody>\n",
       "    <tr>\n",
       "      <th>0</th>\n",
       "      <td>3.62160</td>\n",
       "      <td>8.6661</td>\n",
       "      <td>-2.8073</td>\n",
       "      <td>-0.44699</td>\n",
       "      <td>0</td>\n",
       "    </tr>\n",
       "    <tr>\n",
       "      <th>1</th>\n",
       "      <td>4.54590</td>\n",
       "      <td>8.1674</td>\n",
       "      <td>-2.4586</td>\n",
       "      <td>-1.46210</td>\n",
       "      <td>0</td>\n",
       "    </tr>\n",
       "    <tr>\n",
       "      <th>2</th>\n",
       "      <td>3.86600</td>\n",
       "      <td>-2.6383</td>\n",
       "      <td>1.9242</td>\n",
       "      <td>0.10645</td>\n",
       "      <td>0</td>\n",
       "    </tr>\n",
       "    <tr>\n",
       "      <th>3</th>\n",
       "      <td>3.45660</td>\n",
       "      <td>9.5228</td>\n",
       "      <td>-4.0112</td>\n",
       "      <td>-3.59440</td>\n",
       "      <td>0</td>\n",
       "    </tr>\n",
       "    <tr>\n",
       "      <th>4</th>\n",
       "      <td>0.32924</td>\n",
       "      <td>-4.4552</td>\n",
       "      <td>4.5718</td>\n",
       "      <td>-0.98880</td>\n",
       "      <td>0</td>\n",
       "    </tr>\n",
       "  </tbody>\n",
       "</table>\n",
       "</div>"
      ],
      "text/plain": [
       "   Variance  Skewness  Curtosis  Entropy  Class\n",
       "0   3.62160    8.6661   -2.8073 -0.44699      0\n",
       "1   4.54590    8.1674   -2.4586 -1.46210      0\n",
       "2   3.86600   -2.6383    1.9242  0.10645      0\n",
       "3   3.45660    9.5228   -4.0112 -3.59440      0\n",
       "4   0.32924   -4.4552    4.5718 -0.98880      0"
      ]
     },
     "execution_count": 2,
     "metadata": {},
     "output_type": "execute_result"
    }
   ],
   "source": [
    "bill_dataset = pd.read_csv('data/bill_authentication.csv')\n",
    "bill_dataset.head()"
   ]
  },
  {
   "cell_type": "code",
   "execution_count": 3,
   "metadata": {},
   "outputs": [
    {
     "data": {
      "text/plain": [
       "(1372, 5)"
      ]
     },
     "execution_count": 3,
     "metadata": {},
     "output_type": "execute_result"
    }
   ],
   "source": [
    "bill_dataset.shape"
   ]
  },
  {
   "cell_type": "markdown",
   "metadata": {},
   "source": [
    "So `bill_dataset` has 1372 observations of 5 variables.  In order to use the machine learning classifiers in `sklearn`, we'll first need to separate `bill_dataset` into attribute and target data sets:"
   ]
  },
  {
   "cell_type": "code",
   "execution_count": 4,
   "metadata": {},
   "outputs": [
    {
     "data": {
      "text/plain": [
       "(1372, 4)"
      ]
     },
     "execution_count": 4,
     "metadata": {},
     "output_type": "execute_result"
    }
   ],
   "source": [
    "bill_dataset_data = bill_dataset.iloc[:, 0:4].values\n",
    "bill_dataset_data.shape"
   ]
  },
  {
   "cell_type": "code",
   "execution_count": 5,
   "metadata": {},
   "outputs": [
    {
     "data": {
      "text/plain": [
       "array([[  3.6216 ,   8.6661 ,  -2.8073 ,  -0.44699],\n",
       "       [  4.5459 ,   8.1674 ,  -2.4586 ,  -1.4621 ],\n",
       "       [  3.866  ,  -2.6383 ,   1.9242 ,   0.10645],\n",
       "       ...,\n",
       "       [ -3.7503 , -13.4586 ,  17.5932 ,  -2.7771 ],\n",
       "       [ -3.5637 ,  -8.3827 ,  12.393  ,  -1.2823 ],\n",
       "       [ -2.5419 ,  -0.65804,   2.6842 ,   1.1952 ]])"
      ]
     },
     "execution_count": 5,
     "metadata": {},
     "output_type": "execute_result"
    }
   ],
   "source": [
    "bill_dataset_data[:, 0:10]"
   ]
  },
  {
   "cell_type": "code",
   "execution_count": 6,
   "metadata": {},
   "outputs": [
    {
     "data": {
      "text/plain": [
       "(1372,)"
      ]
     },
     "execution_count": 6,
     "metadata": {},
     "output_type": "execute_result"
    }
   ],
   "source": [
    "bill_dataset_targets = bill_dataset.iloc[:, 4].values\n",
    "bill_dataset_targets.shape"
   ]
  },
  {
   "cell_type": "code",
   "execution_count": 7,
   "metadata": {},
   "outputs": [
    {
     "data": {
      "text/plain": [
       "array([0, 0, 0, ..., 1, 1, 1])"
      ]
     },
     "execution_count": 7,
     "metadata": {},
     "output_type": "execute_result"
    }
   ],
   "source": [
    "bill_dataset_targets[:]"
   ]
  },
  {
   "cell_type": "markdown",
   "metadata": {},
   "source": [
    "\n",
    "\n",
    "Before we can put our data into any machine learning algorithm, it is generally good practice to normalize the data.  Most classifiers/algorithms won't work nicely without first normalizing the data; as an example, the k-means clustering algorithm calculates the Euclidean distance between points.  If the features of the data set have widely different ranges, then features having a wider range will contribute much more heavily to classification.  Normalizing the data to the same range makes it so that all features contribute an equal amount to classification.  You can read more about data normalization [here](https://en.wikipedia.org/wiki/Feature_scaling)\n",
    "\n",
    "*(There may be circumstances where you do want to keep a wider range of values for a particular feature to emphasize its importance.  This sort of decision is informed by domain knowledge.)*\n",
    "\n",
    "We can normalize data using the `scale` package from `sklearn.preprocessing`:"
   ]
  },
  {
   "cell_type": "code",
   "execution_count": 8,
   "metadata": {},
   "outputs": [
    {
     "data": {
      "text/plain": [
       "array([[ 1.12180565,  1.14945512, -0.97597007,  0.35456135],\n",
       "       [ 1.44706568,  1.06445293, -0.89503626, -0.12876744],\n",
       "       [ 1.20780971, -0.77735215,  0.12221838,  0.61807317],\n",
       "       ...,\n",
       "       [-1.47235682, -2.62164576,  3.75901744, -0.75488418],\n",
       "       [-1.40669251, -1.75647104,  2.552043  , -0.04315848],\n",
       "       [-1.04712236, -0.43982168,  0.29861555,  1.1364645 ]])"
      ]
     },
     "execution_count": 8,
     "metadata": {},
     "output_type": "execute_result"
    }
   ],
   "source": [
    "from sklearn.preprocessing import scale\n",
    "bill_dataset_data = scale(bill_dataset_data)\n",
    "bill_dataset_data[:, :10]"
   ]
  },
  {
   "cell_type": "markdown",
   "metadata": {},
   "source": [
    "We'll now separate the data into training and testing data sets using `train_test_split` from `sklearn.model_selection`:"
   ]
  },
  {
   "cell_type": "code",
   "execution_count": 9,
   "metadata": {},
   "outputs": [],
   "source": [
    "from sklearn.model_selection import train_test_split\n",
    "\n",
    "x_train, x_test, y_train, y_test = train_test_split(\n",
    "    bill_dataset_data, bill_dataset_targets, test_size = 0.2, random_state = 489)"
   ]
  },
  {
   "cell_type": "markdown",
   "metadata": {},
   "source": [
    "We can now train the Random Forest algorithm (you can read about the parameters of `RandomForestClassifier` [here](https://scikit-learn.org/stable/modules/generated/sklearn.ensemble.RandomForestClassifier.html):"
   ]
  },
  {
   "cell_type": "code",
   "execution_count": 10,
   "metadata": {},
   "outputs": [
    {
     "name": "stderr",
     "output_type": "stream",
     "text": [
      "/Users/pvillanueva13/anaconda3/lib/python3.7/site-packages/sklearn/ensemble/weight_boosting.py:29: DeprecationWarning: numpy.core.umath_tests is an internal NumPy module and should not be imported. It will be removed in a future NumPy release.\n",
      "  from numpy.core.umath_tests import inner1d\n"
     ]
    }
   ],
   "source": [
    "from sklearn.ensemble import RandomForestClassifier\n",
    "\n",
    "random_forest_predictor = RandomForestClassifier(n_estimators = 20, random_state = 489)\n",
    "random_forest_predictor.fit(x_train, y_train)\n",
    "y_pred_random_forest = random_forest_predictor.predict(x_test)"
   ]
  },
  {
   "cell_type": "markdown",
   "metadata": {},
   "source": [
    "Now we want to evaluate how well this algorithm did.  `sklearn` has several ways to measure the effectiveness of an algorithm, and we'll explore those shortly, but I like to use this confusion matrix function found on `sklearn`'s forum:"
   ]
  },
  {
   "cell_type": "code",
   "execution_count": 11,
   "metadata": {},
   "outputs": [],
   "source": [
    "def plot_confusion_matrix(cm,\n",
    "                          target_names,\n",
    "                          title='Confusion matrix',\n",
    "                          cmap=None,\n",
    "                          normalize=True):\n",
    "    \"\"\"\n",
    "    Citiation\n",
    "    ---------\n",
    "    http://scikit-learn.org/stable/auto_examples/model_selection/plot_confusion_matrix.html\n",
    "\n",
    "    \"\"\"\n",
    "    import matplotlib.pyplot as plt\n",
    "    import numpy as np\n",
    "    import itertools\n",
    "\n",
    "    accuracy = np.trace(cm) / float(np.sum(cm))\n",
    "    misclass = 1 - accuracy\n",
    "\n",
    "    if cmap is None:\n",
    "        cmap = plt.get_cmap('Blues')\n",
    "\n",
    "    plt.figure(figsize=(8, 6))\n",
    "    plt.imshow(cm, interpolation='nearest', cmap=cmap)\n",
    "    plt.title(title)\n",
    "    plt.colorbar()\n",
    "\n",
    "    if target_names is not None:\n",
    "        tick_marks = np.arange(len(target_names))\n",
    "        plt.xticks(tick_marks, target_names, rotation=45)\n",
    "        plt.yticks(tick_marks, target_names)\n",
    "\n",
    "    if normalize:\n",
    "        cm = cm.astype('float') / cm.sum(axis=1)[:, np.newaxis]\n",
    "\n",
    "\n",
    "    thresh = cm.max() / 1.5 if normalize else cm.max() / 2\n",
    "    for i, j in itertools.product(range(cm.shape[0]), range(cm.shape[1])):\n",
    "        if normalize:\n",
    "            plt.text(j, i, \"{:0.4f}\".format(cm[i, j]),\n",
    "                     horizontalalignment=\"center\",\n",
    "                     color=\"white\" if cm[i, j] > thresh else \"black\")\n",
    "        else:\n",
    "            plt.text(j, i, \"{:,}\".format(cm[i, j]),\n",
    "                     horizontalalignment=\"center\",\n",
    "                     color=\"white\" if cm[i, j] > thresh else \"black\")\n",
    "\n",
    "\n",
    "    plt.tight_layout()\n",
    "    plt.ylabel('True label')\n",
    "    plt.xlabel('Predicted label\\naccuracy={:0.4f}; misclass={:0.4f}'.format(accuracy, misclass))\n",
    "    plt.show()"
   ]
  },
  {
   "cell_type": "code",
   "execution_count": 12,
   "metadata": {
    "scrolled": true
   },
   "outputs": [
    {
     "data": {
      "image/png": "[encoded data removed]",
      "text/plain": [
       "<Figure size 576x432 with 2 Axes>"
      ]
     },
     "metadata": {
      "needs_background": "light"
     },
     "output_type": "display_data"
    }
   ],
   "source": [
    "%matplotlib inline\n",
    "from sklearn.metrics import confusion_matrix\n",
    "\n",
    "labels = [0, 1]\n",
    "random_forest_cm = confusion_matrix(y_test, y_pred_random_forest, labels)\n",
    "\n",
    "    \n",
    "plot_confusion_matrix(random_forest_cm, labels)"
   ]
  },
  {
   "cell_type": "markdown",
   "metadata": {},
   "source": [
    "We can also get other performance metrics from `sklearn.metrics`:"
   ]
  },
  {
   "cell_type": "code",
   "execution_count": 13,
   "metadata": {},
   "outputs": [
    {
     "name": "stdout",
     "output_type": "stream",
     "text": [
      "             precision    recall  f1-score   support\n",
      "\n",
      "          0       0.99      0.96      0.97       151\n",
      "          1       0.95      0.98      0.97       124\n",
      "\n",
      "avg / total       0.97      0.97      0.97       275\n",
      "\n",
      "Accuracy of the random forest model is 0.9709\n"
     ]
    }
   ],
   "source": [
    "from sklearn.metrics import classification_report, accuracy_score\n",
    "\n",
    "print(classification_report(y_test, y_pred_random_forest))  \n",
    "print(\"Accuracy of the random forest model is {:.4f}\".format(\n",
    "    accuracy_score(y_test, y_pred_random_forest))) "
   ]
  },
  {
   "cell_type": "markdown",
   "metadata": {},
   "source": [
    "A brief description of the above metrics:\n",
    "\n",
    "* **Precision** is the proportion of positive identifications that are actually correct.  In other words, $$\\textbf{Precision} = \\frac{TP}{TP + FP},$$ where $TP$ and $FP$ is the number of true an false positives, respectively.\n",
    "* **Recall** is the number of true positives that were actually found.  Mathematically, recall is defined as $$\\textbf{Recall} = \\frac{TP}{TP + FN},$$ where $FN$ is the number of false negatives.  You can read more about precision and recall [here](https://en.wikipedia.org/wiki/Precision_and_recall)\n",
    "* When your classifier identifies an instance as positive, you want to know that it has been correctly identified as positive (precision).  Also, you want to know that your classifier is finding as many positive instances as possible and not misclassifying positive instances as negative (recall).  Hence, the **f1-score** is a combination of both precision and recall and is calculated as the harmonic mean of the two: $$F_1 = \\bigg(\\frac{\\textbf{precision}^{-1} + \\textbf{recall}^{-1}}{2}\\bigg)^{-1} = 2 \\bigg(\\frac{\\textbf{precision}\\cdot\\textbf{recall}}{\\textbf{precision} + \\textbf{recall}}\\bigg)$$\n",
    "* **Support** is the number of occurrences of each class.  That is, there are 151 negative (or authentic) bills and 124 positive (or fraudulent) bills in our data set.\n",
    "* **Accuracy** is the total number of correct predictions on the entire data set.  So, if $D$ is your data set, $$\\textbf{Accuracy} = \\bigg(\\frac{TN + TP}{|D|}\\bigg)$$.\n",
    "\n",
    "Note that, depending on your problem, you may place more importance on recall than precision or vice versa.  For instance, if you're designing a classifier to identify cancer, you want your algorithm to have high recall since you don't want to misdiagnose a cancer patient as a healthy one.  On the other hand, if you're designing a spam filter, you might place more value on precision so that you don't misclassify important email as spam. \n",
    "\n",
    "So the random forest seemed pretty good for this data set, but let's try another machine learning algorithm.  We can use the sklearn algorithm map to help us decide another appropriate classifier to use:\n",
    "\n",
    "![alt-text](https://github.com/pommevilla/bcb.fall2018.advanced.python/raw/61e1e32af9e5e9cff0d001a4d6124cba03e3bb43/lessons/images/ml_map.png)\n",
    "\n",
    "If we follow the map, the first suggestion we reach is linear support vector classifier, or SVC.  You can read more about the algorithm [here](https://en.wikipedia.org/wiki/Support_vector_machine) and see the documentation for the sklearn implementation [here](https://scikit-learn.org/stable/modules/svm.html#classification).  Briefly, a SVC separates the data into categories via a hyperplane so that future data points are classified according to which side of the hyperplane they fall on.\n",
    "\n",
    "Let's go ahead and implement the SVC for this data set.  First, we import the SVC classifier from `sklearn.svm` and fit it to our training data:"
   ]
  },
  {
   "cell_type": "code",
   "execution_count": 16,
   "metadata": {},
   "outputs": [
    {
     "data": {
      "text/plain": [
       "SVC(C=1.0, cache_size=200, class_weight=None, coef0=0.0,\n",
       "  decision_function_shape='ovr', degree=3, gamma='auto', kernel='rbf',\n",
       "  max_iter=-1, probability=False, random_state=None, shrinking=True,\n",
       "  tol=0.001, verbose=False)"
      ]
     },
     "execution_count": 16,
     "metadata": {},
     "output_type": "execute_result"
    }
   ],
   "source": [
    "from sklearn.svm import SVC\n",
    "\n",
    "svm_predictor = SVC()\n",
    "svm_predictor.fit(x_train, y_train)"
   ]
  },
  {
   "cell_type": "markdown",
   "metadata": {},
   "source": [
    "Next, we'll make predictions and check out its performance."
   ]
  },
  {
   "cell_type": "code",
   "execution_count": 19,
   "metadata": {},
   "outputs": [
    {
     "data": {
      "image/png": "[encoded data removed]",
      "text/plain": [
       "<Figure size 576x432 with 2 Axes>"
      ]
     },
     "metadata": {
      "needs_background": "light"
     },
     "output_type": "display_data"
    }
   ],
   "source": [
    "y_pred_svc = svm_predictor.predict(x_test)\n",
    "svc_cm = confusion_matrix(y_test, y_pred_svm, labels)\n",
    "plot_confusion_matrix(svc_cm, labels)"
   ]
  },
  {
   "cell_type": "code",
   "execution_count": 21,
   "metadata": {},
   "outputs": [
    {
     "name": "stdout",
     "output_type": "stream",
     "text": [
      "             precision    recall  f1-score   support\n",
      "\n",
      "          0       1.00      1.00      1.00       151\n",
      "          1       1.00      1.00      1.00       124\n",
      "\n",
      "avg / total       1.00      1.00      1.00       275\n",
      "\n",
      "Accuracy of the random forest model is 1.0000\n"
     ]
    }
   ],
   "source": [
    "print(classification_report(y_test, y_pred_svc))  \n",
    "print(\"Accuracy of the random forest model is {:.4f}\".format(\n",
    "    accuracy_score(y_test, y_pred_svc))) "
   ]
  },
  {
   "cell_type": "markdown",
   "metadata": {},
   "source": [
    "It looks like SVC was a good fit for this data set.  Just as an example of a training algorithm that isn't a good fit for our data, let's implement a k-means clustering algorithm.  You can read about the algorithm [here](https://en.wikipedia.org/wiki/K-means_clustering) and about sklearn's implementation [here](https://scikit-learn.org/stable/modules/generated/sklearn.cluster.KMeans.html)."
   ]
  },
  {
   "cell_type": "code",
   "execution_count": 22,
   "metadata": {},
   "outputs": [
    {
     "data": {
      "text/plain": [
       "KMeans(algorithm='auto', copy_x=True, init='k-means++', max_iter=300,\n",
       "    n_clusters=2, n_init=10, n_jobs=1, precompute_distances='auto',\n",
       "    random_state=489, tol=0.0001, verbose=0)"
      ]
     },
     "execution_count": 22,
     "metadata": {},
     "output_type": "execute_result"
    }
   ],
   "source": [
    "from sklearn.cluster import KMeans\n",
    "\n",
    "k_means_predictor = KMeans(n_clusters = 2, random_state = 489)\n",
    "k_means_predictor.fit(x_train)"
   ]
  },
  {
   "cell_type": "code",
   "execution_count": 23,
   "metadata": {},
   "outputs": [
    {
     "data": {
      "image/png": "[encoded data removed]",
      "text/plain": [
       "<Figure size 576x432 with 2 Axes>"
      ]
     },
     "metadata": {
      "needs_background": "light"
     },
     "output_type": "display_data"
    }
   ],
   "source": [
    "y_pred_k_means = k_means_predictor.predict(x_test)\n",
    "k_means_cm = confusion_matrix(y_test, y_pred_k_means, labels)\n",
    "plot_confusion_matrix(k_means_cm, labels)"
   ]
  },
  {
   "cell_type": "code",
   "execution_count": 24,
   "metadata": {},
   "outputs": [
    {
     "name": "stdout",
     "output_type": "stream",
     "text": [
      "             precision    recall  f1-score   support\n",
      "\n",
      "          0       0.52      0.50      0.51       151\n",
      "          1       0.42      0.44      0.43       124\n",
      "\n",
      "avg / total       0.47      0.47      0.47       275\n",
      "\n",
      "Accuracy of the random forest model is 0.4691\n"
     ]
    }
   ],
   "source": [
    "print(classification_report(y_test, y_pred_k_means))  \n",
    "print(\"Accuracy of the random forest model is {:.4f}\".format(\n",
    "    accuracy_score(y_test, y_pred_k_means))) "
   ]
  },
  {
   "cell_type": "markdown",
   "metadata": {},
   "source": [
    "Performance was a lot worse.  What about the k-means algorithm made it such a bad choice?"
   ]
  }
 ],
 "metadata": {
  "kernelspec": {
   "display_name": "Python 3",
   "language": "python",
   "name": "python3"
  },
  "language_info": {
   "codemirror_mode": {
    "name": "ipython",
    "version": 3
   },
   "file_extension": ".py",
   "mimetype": "text/x-python",
   "name": "python",
   "nbconvert_exporter": "python",
   "pygments_lexer": "ipython3",
   "version": "3.7.0"
  }
 },
 "nbformat": 4,
 "nbformat_minor": 2
}
