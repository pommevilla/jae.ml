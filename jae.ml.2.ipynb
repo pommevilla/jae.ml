{
 "cells": [
  {
   "cell_type": "markdown",
   "metadata": {},
   "source": [
    "# Training classifiers on Jae's dataset"
   ]
  },
  {
   "cell_type": "code",
   "execution_count": 2,
   "metadata": {},
   "outputs": [],
   "source": [
    "import numpy as np\n",
    "import pandas as pd"
   ]
  },
  {
   "cell_type": "markdown",
   "metadata": {},
   "source": [
    "We'll read in Jae's data, which is contained in `data/test_02.xlsx`.  Using `read_excel` with `sheet_name = None` will read in all of the sheets as a dictionary whose keys are the sheet names and the values are data frames containing the data in that sheet. "
   ]
  },
  {
   "cell_type": "code",
   "execution_count": 3,
   "metadata": {},
   "outputs": [
    {
     "data": {
      "text/plain": [
       "odict_keys(['Sheet1', 'Sheet2', 'Sheet4', '1-wk ahead', 'example'])"
      ]
     },
     "execution_count": 3,
     "metadata": {},
     "output_type": "execute_result"
    }
   ],
   "source": [
    "algal_bloom_data = pd.read_excel('data/test_02.xlsx', sheet_name = None)\n",
    "algal_bloom_data.keys()"
   ]
  },
  {
   "cell_type": "markdown",
   "metadata": {},
   "source": [
    "\n",
    "\n",
    "## Data preparation\n",
    "\n",
    "The data set we'll be working with is in the `example` sheet of `sample_algal_bloom_data`:"
   ]
  },
  {
   "cell_type": "code",
   "execution_count": 46,
   "metadata": {},
   "outputs": [
    {
     "data": {
      "text/html": [
       "<div>\n",
       "<style scoped>\n",
       "    .dataframe tbody tr th:only-of-type {\n",
       "        vertical-align: middle;\n",
       "    }\n",
       "\n",
       "    .dataframe tbody tr th {\n",
       "        vertical-align: top;\n",
       "    }\n",
       "\n",
       "    .dataframe thead th {\n",
       "        text-align: right;\n",
       "    }\n",
       "</style>\n",
       "<table border=\"1\" class=\"dataframe\">\n",
       "  <thead>\n",
       "    <tr style=\"text-align: right;\">\n",
       "      <th></th>\n",
       "      <th>Tox_class</th>\n",
       "      <th>Ecoli</th>\n",
       "      <th>pH</th>\n",
       "      <th>DOC</th>\n",
       "      <th>TKP</th>\n",
       "      <th>TKN</th>\n",
       "      <th>NP.ratio</th>\n",
       "      <th>NH3</th>\n",
       "      <th>Nox</th>\n",
       "      <th>NO2</th>\n",
       "      <th>Cl</th>\n",
       "      <th>SO4</th>\n",
       "      <th>16S</th>\n",
       "      <th>mcyAM</th>\n",
       "      <th>mcyAA</th>\n",
       "      <th>mcyAP</th>\n",
       "    </tr>\n",
       "  </thead>\n",
       "  <tbody>\n",
       "    <tr>\n",
       "      <th>0</th>\n",
       "      <td>1</td>\n",
       "      <td>7300</td>\n",
       "      <td>8.10</td>\n",
       "      <td>5.848</td>\n",
       "      <td>1.609</td>\n",
       "      <td>0.660</td>\n",
       "      <td>0.410193</td>\n",
       "      <td>0.024000</td>\n",
       "      <td>0.018</td>\n",
       "      <td>NaN</td>\n",
       "      <td>18.760</td>\n",
       "      <td>21.602</td>\n",
       "      <td>147000</td>\n",
       "      <td>0</td>\n",
       "      <td>0</td>\n",
       "      <td>0</td>\n",
       "    </tr>\n",
       "    <tr>\n",
       "      <th>1</th>\n",
       "      <td>1</td>\n",
       "      <td>1100</td>\n",
       "      <td>7.85</td>\n",
       "      <td>7.288</td>\n",
       "      <td>1.382</td>\n",
       "      <td>0.458</td>\n",
       "      <td>0.331404</td>\n",
       "      <td>0.032695</td>\n",
       "      <td>15.163</td>\n",
       "      <td>0.0707</td>\n",
       "      <td>20.334</td>\n",
       "      <td>21.095</td>\n",
       "      <td>1760000</td>\n",
       "      <td>0</td>\n",
       "      <td>0</td>\n",
       "      <td>0</td>\n",
       "    </tr>\n",
       "    <tr>\n",
       "      <th>2</th>\n",
       "      <td>1</td>\n",
       "      <td>140</td>\n",
       "      <td>8.01</td>\n",
       "      <td>1.694</td>\n",
       "      <td>1.327</td>\n",
       "      <td>0.423</td>\n",
       "      <td>0.318764</td>\n",
       "      <td>0.085000</td>\n",
       "      <td>13.012</td>\n",
       "      <td>0.0603</td>\n",
       "      <td>21.218</td>\n",
       "      <td>22.536</td>\n",
       "      <td>2190000</td>\n",
       "      <td>0</td>\n",
       "      <td>0</td>\n",
       "      <td>0</td>\n",
       "    </tr>\n",
       "    <tr>\n",
       "      <th>3</th>\n",
       "      <td>1</td>\n",
       "      <td>1500</td>\n",
       "      <td>7.28</td>\n",
       "      <td>2.583</td>\n",
       "      <td>1.217</td>\n",
       "      <td>0.569</td>\n",
       "      <td>0.467543</td>\n",
       "      <td>0.083000</td>\n",
       "      <td>15.872</td>\n",
       "      <td>0.0592</td>\n",
       "      <td>19.018</td>\n",
       "      <td>21.775</td>\n",
       "      <td>4440000</td>\n",
       "      <td>0</td>\n",
       "      <td>0</td>\n",
       "      <td>0</td>\n",
       "    </tr>\n",
       "    <tr>\n",
       "      <th>4</th>\n",
       "      <td>1</td>\n",
       "      <td>3400</td>\n",
       "      <td>8.80</td>\n",
       "      <td>1.450</td>\n",
       "      <td>1.056</td>\n",
       "      <td>0.517</td>\n",
       "      <td>0.489583</td>\n",
       "      <td>0.149000</td>\n",
       "      <td>10.882</td>\n",
       "      <td>0.0563</td>\n",
       "      <td>19.203</td>\n",
       "      <td>26.198</td>\n",
       "      <td>423</td>\n",
       "      <td>0</td>\n",
       "      <td>0</td>\n",
       "      <td>0</td>\n",
       "    </tr>\n",
       "  </tbody>\n",
       "</table>\n",
       "</div>"
      ],
      "text/plain": [
       "   Tox_class  Ecoli    pH    DOC    TKP    TKN  NP.ratio       NH3     Nox  \\\n",
       "0          1   7300  8.10  5.848  1.609  0.660  0.410193  0.024000   0.018   \n",
       "1          1   1100  7.85  7.288  1.382  0.458  0.331404  0.032695  15.163   \n",
       "2          1    140  8.01  1.694  1.327  0.423  0.318764  0.085000  13.012   \n",
       "3          1   1500  7.28  2.583  1.217  0.569  0.467543  0.083000  15.872   \n",
       "4          1   3400  8.80  1.450  1.056  0.517  0.489583  0.149000  10.882   \n",
       "\n",
       "      NO2      Cl     SO4      16S  mcyAM  mcyAA  mcyAP  \n",
       "0     NaN  18.760  21.602   147000      0      0      0  \n",
       "1  0.0707  20.334  21.095  1760000      0      0      0  \n",
       "2  0.0603  21.218  22.536  2190000      0      0      0  \n",
       "3  0.0592  19.018  21.775  4440000      0      0      0  \n",
       "4  0.0563  19.203  26.198      423      0      0      0  "
      ]
     },
     "execution_count": 46,
     "metadata": {},
     "output_type": "execute_result"
    }
   ],
   "source": [
    "sample_algal_bloom_data = algal_bloom_data['1-wk ahead']\n",
    "sample_algal_bloom_data.head()"
   ]
  },
  {
   "cell_type": "markdown",
   "metadata": {},
   "source": [
    "Each row in `sample_algal_bloom_data` contains the measurements of different chemicals taken at a particular timepoint. `Tox_class` is the classification of the water into toxicity class based on the measurements in the other columns.  Our goal is to train a classifier to predict the toxicity class based on the other readings. \n",
    "\n",
    "The first classifier we'll be using is the random forest classifier.  Since random forests can't handle missing data, we'll first check to see if our data set has any missing data:"
   ]
  },
  {
   "cell_type": "code",
   "execution_count": 28,
   "metadata": {},
   "outputs": [
    {
     "data": {
      "text/plain": [
       "True"
      ]
     },
     "execution_count": 28,
     "metadata": {},
     "output_type": "execute_result"
    }
   ],
   "source": [
    "sample_algal_bloom_data.isnull().values.any()"
   ]
  },
  {
   "cell_type": "markdown",
   "metadata": {},
   "source": [
    "We'll fill in the missing values before we do any analysis.  We'll first use the `Imputer` class from `sklearn.preprocessing`:"
   ]
  },
  {
   "cell_type": "code",
   "execution_count": 44,
   "metadata": {},
   "outputs": [
    {
     "data": {
      "text/html": [
       "<div>\n",
       "<style scoped>\n",
       "    .dataframe tbody tr th:only-of-type {\n",
       "        vertical-align: middle;\n",
       "    }\n",
       "\n",
       "    .dataframe tbody tr th {\n",
       "        vertical-align: top;\n",
       "    }\n",
       "\n",
       "    .dataframe thead th {\n",
       "        text-align: right;\n",
       "    }\n",
       "</style>\n",
       "<table border=\"1\" class=\"dataframe\">\n",
       "  <thead>\n",
       "    <tr style=\"text-align: right;\">\n",
       "      <th></th>\n",
       "      <th>Tox_class</th>\n",
       "      <th>Ecoli</th>\n",
       "      <th>pH</th>\n",
       "      <th>DOC</th>\n",
       "      <th>TKP</th>\n",
       "      <th>TKN</th>\n",
       "      <th>NP.ratio</th>\n",
       "      <th>NH3</th>\n",
       "      <th>Nox</th>\n",
       "      <th>NO2</th>\n",
       "      <th>Cl</th>\n",
       "      <th>SO4</th>\n",
       "      <th>16S</th>\n",
       "      <th>mcyAM</th>\n",
       "      <th>mcyAA</th>\n",
       "      <th>mcyAP</th>\n",
       "    </tr>\n",
       "  </thead>\n",
       "  <tbody>\n",
       "    <tr>\n",
       "      <th>0</th>\n",
       "      <td>1.0</td>\n",
       "      <td>7300.0</td>\n",
       "      <td>8.10</td>\n",
       "      <td>5.848</td>\n",
       "      <td>1.609</td>\n",
       "      <td>0.660</td>\n",
       "      <td>0.410193</td>\n",
       "      <td>0.024000</td>\n",
       "      <td>0.018</td>\n",
       "      <td>0.03098</td>\n",
       "      <td>18.760</td>\n",
       "      <td>21.602</td>\n",
       "      <td>147000.0</td>\n",
       "      <td>0.0</td>\n",
       "      <td>0.0</td>\n",
       "      <td>0.0</td>\n",
       "    </tr>\n",
       "    <tr>\n",
       "      <th>1</th>\n",
       "      <td>1.0</td>\n",
       "      <td>1100.0</td>\n",
       "      <td>7.85</td>\n",
       "      <td>7.288</td>\n",
       "      <td>1.382</td>\n",
       "      <td>0.458</td>\n",
       "      <td>0.331404</td>\n",
       "      <td>0.032695</td>\n",
       "      <td>15.163</td>\n",
       "      <td>0.07070</td>\n",
       "      <td>20.334</td>\n",
       "      <td>21.095</td>\n",
       "      <td>1760000.0</td>\n",
       "      <td>0.0</td>\n",
       "      <td>0.0</td>\n",
       "      <td>0.0</td>\n",
       "    </tr>\n",
       "    <tr>\n",
       "      <th>2</th>\n",
       "      <td>1.0</td>\n",
       "      <td>140.0</td>\n",
       "      <td>8.01</td>\n",
       "      <td>1.694</td>\n",
       "      <td>1.327</td>\n",
       "      <td>0.423</td>\n",
       "      <td>0.318764</td>\n",
       "      <td>0.085000</td>\n",
       "      <td>13.012</td>\n",
       "      <td>0.06030</td>\n",
       "      <td>21.218</td>\n",
       "      <td>22.536</td>\n",
       "      <td>2190000.0</td>\n",
       "      <td>0.0</td>\n",
       "      <td>0.0</td>\n",
       "      <td>0.0</td>\n",
       "    </tr>\n",
       "    <tr>\n",
       "      <th>3</th>\n",
       "      <td>1.0</td>\n",
       "      <td>1500.0</td>\n",
       "      <td>7.28</td>\n",
       "      <td>2.583</td>\n",
       "      <td>1.217</td>\n",
       "      <td>0.569</td>\n",
       "      <td>0.467543</td>\n",
       "      <td>0.083000</td>\n",
       "      <td>15.872</td>\n",
       "      <td>0.05920</td>\n",
       "      <td>19.018</td>\n",
       "      <td>21.775</td>\n",
       "      <td>4440000.0</td>\n",
       "      <td>0.0</td>\n",
       "      <td>0.0</td>\n",
       "      <td>0.0</td>\n",
       "    </tr>\n",
       "    <tr>\n",
       "      <th>4</th>\n",
       "      <td>1.0</td>\n",
       "      <td>3400.0</td>\n",
       "      <td>8.80</td>\n",
       "      <td>1.450</td>\n",
       "      <td>1.056</td>\n",
       "      <td>0.517</td>\n",
       "      <td>0.489583</td>\n",
       "      <td>0.149000</td>\n",
       "      <td>10.882</td>\n",
       "      <td>0.05630</td>\n",
       "      <td>19.203</td>\n",
       "      <td>26.198</td>\n",
       "      <td>423.0</td>\n",
       "      <td>0.0</td>\n",
       "      <td>0.0</td>\n",
       "      <td>0.0</td>\n",
       "    </tr>\n",
       "  </tbody>\n",
       "</table>\n",
       "</div>"
      ],
      "text/plain": [
       "   Tox_class   Ecoli    pH    DOC    TKP    TKN  NP.ratio       NH3     Nox  \\\n",
       "0        1.0  7300.0  8.10  5.848  1.609  0.660  0.410193  0.024000   0.018   \n",
       "1        1.0  1100.0  7.85  7.288  1.382  0.458  0.331404  0.032695  15.163   \n",
       "2        1.0   140.0  8.01  1.694  1.327  0.423  0.318764  0.085000  13.012   \n",
       "3        1.0  1500.0  7.28  2.583  1.217  0.569  0.467543  0.083000  15.872   \n",
       "4        1.0  3400.0  8.80  1.450  1.056  0.517  0.489583  0.149000  10.882   \n",
       "\n",
       "       NO2      Cl     SO4        16S  mcyAM  mcyAA  mcyAP  \n",
       "0  0.03098  18.760  21.602   147000.0    0.0    0.0    0.0  \n",
       "1  0.07070  20.334  21.095  1760000.0    0.0    0.0    0.0  \n",
       "2  0.06030  21.218  22.536  2190000.0    0.0    0.0    0.0  \n",
       "3  0.05920  19.018  21.775  4440000.0    0.0    0.0    0.0  \n",
       "4  0.05630  19.203  26.198      423.0    0.0    0.0    0.0  "
      ]
     },
     "execution_count": 44,
     "metadata": {},
     "output_type": "execute_result"
    }
   ],
   "source": [
    "from sklearn.preprocessing import Imputer\n",
    "imp = Imputer(missing_values = \"NaN\", strategy = 'mean', axis = 0)\n",
    "imp.fit(sample_algal_bloom_data)\n",
    "imputed_data = pd.DataFrame(imp.fit_transform(sample_algal_bloom_data))\n",
    "imputed_data.columns = sample_algal_bloom_data.columns\n",
    "imputed_data.head()"
   ]
  },
  {
   "cell_type": "markdown",
   "metadata": {},
   "source": [
    "Just to double check that all the missing values have been removed..."
   ]
  },
  {
   "cell_type": "code",
   "execution_count": 47,
   "metadata": {},
   "outputs": [
    {
     "data": {
      "text/plain": [
       "False"
      ]
     },
     "execution_count": 47,
     "metadata": {},
     "output_type": "execute_result"
    }
   ],
   "source": [
    "imputed_data.isnull().values.any()"
   ]
  },
  {
   "cell_type": "markdown",
   "metadata": {},
   "source": [
    "We can now prepare the data for classification.  We'll separate the attribute values from the target values:"
   ]
  },
  {
   "cell_type": "code",
   "execution_count": 51,
   "metadata": {},
   "outputs": [
    {
     "data": {
      "text/plain": [
       "(502,)"
      ]
     },
     "execution_count": 51,
     "metadata": {},
     "output_type": "execute_result"
    }
   ],
   "source": [
    "sample_targets = imputed_data.iloc[:, 0].values.astype(int)\n",
    "sample_targets.shape"
   ]
  },
  {
   "cell_type": "code",
   "execution_count": 52,
   "metadata": {},
   "outputs": [
    {
     "data": {
      "text/plain": [
       "array([1, 1, 1, 1, 1, 1, 1, 1, 1, 1, 1, 1, 1, 1, 1, 1, 1, 1, 1, 1, 1, 1,\n",
       "       1, 1, 1, 1, 1, 1, 1, 1, 1, 1, 1, 1, 1, 1, 1, 1, 1, 1, 1, 1, 1, 1,\n",
       "       1, 1, 1, 1, 1, 2, 1, 1, 2, 1, 1, 1, 1, 1, 1, 1, 1, 1, 1, 1, 1, 1,\n",
       "       2, 1, 2, 1, 2, 2, 2, 1, 2, 2, 2, 1, 2, 2, 2, 2, 2, 2, 1, 1, 1, 1,\n",
       "       1, 2, 2, 1, 2, 2, 2, 2, 2, 2, 2, 2, 2, 2, 1, 1, 2, 2, 2, 1, 2, 1,\n",
       "       1, 1, 1, 1, 1, 1, 1, 1, 1, 1, 1, 1, 1, 1, 1, 1, 1, 1, 1, 1, 1, 1,\n",
       "       1, 1, 1, 2, 1, 1, 2, 2, 2, 2, 2, 2, 2, 2, 2, 1, 2, 2, 2, 2, 1, 1,\n",
       "       1, 1, 1, 1, 1, 1, 1, 1, 1, 1, 1, 1, 1, 1, 1, 1, 1, 1, 1, 1, 1, 1,\n",
       "       1, 1, 1, 1, 1, 1, 1, 1, 1, 1, 1, 1, 1, 1, 1, 1, 1, 1, 1, 1, 1, 1,\n",
       "       1, 1, 1, 1, 1, 1, 1, 1, 1, 1, 1, 1, 1, 1, 2, 2, 1, 2, 2, 2, 2, 2,\n",
       "       1, 1, 2, 2, 2, 2, 1, 1, 1, 1, 2, 2, 1, 1, 1, 1, 1, 1, 1, 1, 2, 1,\n",
       "       1, 1, 1, 2, 2, 2, 1, 1, 1, 2, 2, 2, 1, 1, 1, 1, 1, 1, 1, 1, 1, 1,\n",
       "       1, 1, 1, 1, 1, 1, 1, 1, 1, 1, 1, 2, 2, 2, 1, 2, 2, 2, 2, 2, 1, 1,\n",
       "       2, 1, 2, 1, 1, 1, 1, 1, 1, 1, 1, 1, 1, 1, 1, 1, 1, 1, 1, 1, 2, 1,\n",
       "       1, 1, 1, 1, 1, 1, 1, 1, 1, 1, 1, 1, 1, 1, 1, 1, 1, 1, 1, 1, 2, 1,\n",
       "       1, 1, 1, 1, 2, 2, 2, 2, 2, 2, 2, 2, 2, 2, 2, 2, 2, 2, 1, 1, 1, 1,\n",
       "       1, 1, 2, 1, 1, 1, 1, 1, 1, 1, 1, 1, 2, 2, 2, 2, 2, 2, 2, 2, 2, 2,\n",
       "       1, 2, 1, 1, 1, 2, 2, 2, 2, 2, 2, 1, 2, 2, 1, 2, 1, 1, 1, 1, 1, 1,\n",
       "       2, 1, 1, 1, 1, 2, 1, 1, 1, 1, 1, 1, 1, 1, 2, 2, 2, 1, 2, 1, 1, 2,\n",
       "       1, 1, 1, 2, 1, 1, 1, 1, 2, 1, 2, 1, 1, 1, 1, 1, 1, 1, 1, 1, 2, 2,\n",
       "       2, 2, 2, 2, 1, 1, 1, 1, 1, 1, 1, 1, 1, 1, 1, 1, 1, 1, 1, 1, 1, 1,\n",
       "       1, 1, 1, 1, 1, 1, 2, 1, 1, 1, 1, 1, 1, 2, 1, 1, 1, 1, 1, 2, 2, 2,\n",
       "       2, 2, 2, 2, 1, 1, 2, 2, 2, 2, 2, 2, 2, 2, 2, 2, 2, 2])"
      ]
     },
     "execution_count": 52,
     "metadata": {},
     "output_type": "execute_result"
    }
   ],
   "source": [
    "sample_targets[:]"
   ]
  },
  {
   "cell_type": "code",
   "execution_count": 55,
   "metadata": {},
   "outputs": [
    {
     "data": {
      "text/plain": [
       "(502, 15)"
      ]
     },
     "execution_count": 55,
     "metadata": {},
     "output_type": "execute_result"
    }
   ],
   "source": [
    "sample_attributes = imputed_data.iloc[:, 1:].values\n",
    "sample_attributes.shape"
   ]
  },
  {
   "cell_type": "code",
   "execution_count": 56,
   "metadata": {},
   "outputs": [
    {
     "data": {
      "text/plain": [
       "array([[7.30000000e+03, 8.10000000e+00, 5.84800000e+00, ...,\n",
       "        1.80000000e-02, 3.09797856e-02, 1.87600000e+01],\n",
       "       [1.10000000e+03, 7.85000000e+00, 7.28800000e+00, ...,\n",
       "        1.51630000e+01, 7.07000000e-02, 2.03340000e+01],\n",
       "       [1.40000000e+02, 8.01000000e+00, 1.69400000e+00, ...,\n",
       "        1.30120000e+01, 6.03000000e-02, 2.12180000e+01],\n",
       "       ...,\n",
       "       [0.00000000e+00, 8.70000000e+00, 7.77100000e+00, ...,\n",
       "        0.00000000e+00, 9.00000000e-04, 8.04000000e+00],\n",
       "       [2.00000000e+01, 9.10000000e+00, 9.20600000e+00, ...,\n",
       "        2.81000000e-01, 7.60000000e-03, 8.96700000e+00],\n",
       "       [1.00000000e+01, 8.60000000e+00, 1.22800000e+01, ...,\n",
       "        0.00000000e+00, 1.27000000e-02, 8.82100000e+00]])"
      ]
     },
     "execution_count": 56,
     "metadata": {},
     "output_type": "execute_result"
    }
   ],
   "source": [
    "sample_attributes[:, :10]"
   ]
  },
  {
   "cell_type": "code",
   "execution_count": 57,
   "metadata": {},
   "outputs": [
    {
     "data": {
      "text/plain": [
       "array([[ 6.83385286, -0.78000653, -0.16827156, ..., -0.43124247,\n",
       "         0.        ,  0.35870845],\n",
       "       [ 0.81180065, -1.37797951,  0.1733322 , ...,  5.62199993,\n",
       "         0.61459578,  0.52202245],\n",
       "       [-0.12064614, -0.9952768 , -1.15370354, ...,  4.76227564,\n",
       "         0.45367529,  0.6137439 ],\n",
       "       ...,\n",
       "       [-0.25662796,  0.65512863,  0.2879118 , ..., -0.43843681,\n",
       "        -0.46542823, -0.75356981],\n",
       "       [-0.23720199,  1.61188541,  0.62832944, ..., -0.32612509,\n",
       "        -0.36175831, -0.65738679],\n",
       "       [-0.24691498,  0.41593944,  1.3575586 , ..., -0.43843681,\n",
       "        -0.28284538, -0.67253535]])"
      ]
     },
     "execution_count": 57,
     "metadata": {},
     "output_type": "execute_result"
    }
   ],
   "source": [
    "from sklearn.preprocessing import scale\n",
    "sample_attributes = scale(sample_attributes)\n",
    "sample_attributes[:, :10]"
   ]
  },
  {
   "cell_type": "markdown",
   "metadata": {},
   "source": [
    "Separating data into training and testing sets:"
   ]
  },
  {
   "cell_type": "code",
   "execution_count": 58,
   "metadata": {},
   "outputs": [],
   "source": [
    "from sklearn.model_selection import train_test_split\n",
    "\n",
    "x_train, x_test, y_train, y_test = train_test_split(\n",
    "    sample_attributes, sample_targets, test_size = 0.2, random_state = 489)"
   ]
  },
  {
   "cell_type": "markdown",
   "metadata": {},
   "source": [
    "The first algorithm we'll use is the random forest classifier:"
   ]
  },
  {
   "cell_type": "code",
   "execution_count": 60,
   "metadata": {},
   "outputs": [],
   "source": [
    "from sklearn.ensemble import RandomForestClassifier\n",
    "\n",
    "random_forest_predictor = RandomForestClassifier(n_estimators = 20, random_state = 489)\n",
    "random_forest_predictor.fit(x_train, y_train)\n",
    "y_pred_random_forest = random_forest_predictor.predict(x_test)"
   ]
  },
  {
   "cell_type": "markdown",
   "metadata": {},
   "source": [
    "We'll use the following function to visualize confusion matrices:"
   ]
  },
  {
   "cell_type": "code",
   "execution_count": 61,
   "metadata": {},
   "outputs": [],
   "source": [
    "def plot_confusion_matrix(cm,\n",
    "                          target_names,\n",
    "                          title='Confusion matrix',\n",
    "                          cmap=None,\n",
    "                          normalize=True):\n",
    "    \"\"\"\n",
    "    Citiation\n",
    "    ---------\n",
    "    http://scikit-learn.org/stable/auto_examples/model_selection/plot_confusion_matrix.html\n",
    "\n",
    "    \"\"\"\n",
    "    import matplotlib.pyplot as plt\n",
    "    import numpy as np\n",
    "    import itertools\n",
    "\n",
    "    accuracy = np.trace(cm) / float(np.sum(cm))\n",
    "    misclass = 1 - accuracy\n",
    "\n",
    "    if cmap is None:\n",
    "        cmap = plt.get_cmap('Blues')\n",
    "\n",
    "    plt.figure(figsize=(8, 6))\n",
    "    plt.imshow(cm, interpolation='nearest', cmap=cmap)\n",
    "    plt.title(title)\n",
    "    plt.colorbar()\n",
    "\n",
    "    if target_names is not None:\n",
    "        tick_marks = np.arange(len(target_names))\n",
    "        plt.xticks(tick_marks, target_names, rotation=45)\n",
    "        plt.yticks(tick_marks, target_names)\n",
    "\n",
    "    if normalize:\n",
    "        cm = cm.astype('float') / cm.sum(axis=1)[:, np.newaxis]\n",
    "\n",
    "\n",
    "    thresh = cm.max() / 1.5 if normalize else cm.max() / 2\n",
    "    for i, j in itertools.product(range(cm.shape[0]), range(cm.shape[1])):\n",
    "        if normalize:\n",
    "            plt.text(j, i, \"{:0.4f}\".format(cm[i, j]),\n",
    "                     horizontalalignment=\"center\",\n",
    "                     color=\"white\" if cm[i, j] > thresh else \"black\")\n",
    "        else:\n",
    "            plt.text(j, i, \"{:,}\".format(cm[i, j]),\n",
    "                     horizontalalignment=\"center\",\n",
    "                     color=\"white\" if cm[i, j] > thresh else \"black\")\n",
    "\n",
    "\n",
    "    plt.tight_layout()\n",
    "    plt.ylabel('True label')\n",
    "    plt.xlabel('Predicted label\\naccuracy={:0.4f}; misclass={:0.4f}'.format(accuracy, misclass))\n",
    "    plt.show()"
   ]
  },
  {
   "cell_type": "markdown",
   "metadata": {},
   "source": [
    "Visualizing the performance of the random forest classifier on the data set:"
   ]
  },
  {
   "cell_type": "code",
   "execution_count": 63,
   "metadata": {},
   "outputs": [
    {
     "data": {
      "image/png": "[encoded data removed]",
      "text/plain": [
       "<Figure size 576x432 with 2 Axes>"
      ]
     },
     "metadata": {},
     "output_type": "display_data"
    }
   ],
   "source": [
    "%matplotlib inline\n",
    "from sklearn.metrics import confusion_matrix\n",
    "\n",
    "labels = [1, 2]\n",
    "random_forest_cm = confusion_matrix(y_test, y_pred_random_forest, labels)\n",
    "\n",
    "    \n",
    "plot_confusion_matrix(random_forest_cm, labels)"
   ]
  },
  {
   "cell_type": "markdown",
   "metadata": {},
   "source": [
    "Classification isn't so good.  Some possible explanations:\n",
    "\n",
    "* The cutoffs for toxicity classes 1 and 2 are dictated by the Mycocystin levels and are given by the EPA. "
   ]
  },
  {
   "cell_type": "code",
   "execution_count": null,
   "metadata": {},
   "outputs": [],
   "source": []
  }
 ],
 "metadata": {
  "kernelspec": {
   "display_name": "Python 3",
   "language": "python",
   "name": "python3"
  },
  "language_info": {
   "codemirror_mode": {
    "name": "ipython",
    "version": 3
   },
   "file_extension": ".py",
   "mimetype": "text/x-python",
   "name": "python",
   "nbconvert_exporter": "python",
   "pygments_lexer": "ipython3",
   "version": "3.6.5"
  }
 },
 "nbformat": 4,
 "nbformat_minor": 2
}
